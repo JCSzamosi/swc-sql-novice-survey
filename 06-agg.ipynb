{
 "metadata": {
  "name": ""
 },
 "nbformat": 3,
 "nbformat_minor": 0,
 "worksheets": [
  {
   "cells": [
    {
     "cell_type": "heading",
     "level": 1,
     "metadata": {},
     "source": [
      "Aggregation"
     ]
    },
    {
     "cell_type": "markdown",
     "metadata": {},
     "source": [
      "We now want to calculate ranges and averages for our data.\n",
      "We know how to select all of the dates from the `Visited` table:"
     ]
    },
    {
     "cell_type": "code",
     "collapsed": false,
     "input": [
      "%load_ext sqlitemagic"
     ],
     "language": "python",
     "metadata": {},
     "outputs": [],
     "prompt_number": 1
    },
    {
     "cell_type": "code",
     "collapsed": false,
     "input": [
      "%%sqlite survey.db\n",
      "select dated from Visited;"
     ],
     "language": "python",
     "metadata": {},
     "outputs": [
      {
       "html": [
        "<table>\n",
        "<tr><td>1927-02-08</td></tr>\n",
        "<tr><td>1927-02-10</td></tr>\n",
        "<tr><td>1939-01-07</td></tr>\n",
        "<tr><td>1930-01-12</td></tr>\n",
        "<tr><td>1930-02-26</td></tr>\n",
        "<tr><td>None</td></tr>\n",
        "<tr><td>1932-01-14</td></tr>\n",
        "<tr><td>1932-03-22</td></tr>\n",
        "</table>"
       ],
       "metadata": {},
       "output_type": "display_data",
       "text": [
        "<IPython.core.display.HTML at 0x1023c4ed0>"
       ]
      }
     ],
     "prompt_number": 2
    },
    {
     "cell_type": "markdown",
     "metadata": {},
     "source": [
      "but to combine them,\n",
      "wee must use an [aggregation function](../gloss.html#aggregation-function)\n",
      "such as `min` or `max`.\n",
      "Each of these functions takes a set of records as input,\n",
      "and produces a single record as output:"
     ]
    },
    {
     "cell_type": "code",
     "collapsed": false,
     "input": [
      "%%sqlite survey.db\n",
      "select min(dated) from Visited;"
     ],
     "language": "python",
     "metadata": {},
     "outputs": [
      {
       "html": [
        "<table>\n",
        "<tr><td>1927-02-08</td></tr>\n",
        "</table>"
       ],
       "metadata": {},
       "output_type": "display_data",
       "text": [
        "<IPython.core.display.HTML at 0x1023c4ed0>"
       ]
      }
     ],
     "prompt_number": 3
    },
    {
     "cell_type": "code",
     "collapsed": false,
     "input": [
      "%%sqlite survey.db\n",
      "select max(dated) from Visited;"
     ],
     "language": "python",
     "metadata": {},
     "outputs": [
      {
       "html": [
        "<table>\n",
        "<tr><td>1939-01-07</td></tr>\n",
        "</table>"
       ],
       "metadata": {},
       "output_type": "display_data",
       "text": [
        "<IPython.core.display.HTML at 0x1023c4090>"
       ]
      }
     ],
     "prompt_number": 4
    },
    {
     "cell_type": "markdown",
     "metadata": {},
     "source": [
      "`min` and `max` are just two of\n",
      "the aggregation functions built into SQL.\n",
      "Three others are `avg`,\n",
      "`count`,\n",
      "and `sum`:"
     ]
    },
    {
     "cell_type": "code",
     "collapsed": false,
     "input": [
      "%%sqlite survey.db\n",
      "select avg(reading) from Survey where quant='sal';"
     ],
     "language": "python",
     "metadata": {},
     "outputs": [
      {
       "html": [
        "<table>\n",
        "<tr><td>7.20333333333</td></tr>\n",
        "</table>"
       ],
       "metadata": {},
       "output_type": "display_data",
       "text": [
        "<IPython.core.display.HTML at 0x1023c4090>"
       ]
      }
     ],
     "prompt_number": 7
    },
    {
     "cell_type": "code",
     "collapsed": false,
     "input": [
      "%%sqlite survey.db\n",
      "select count(reading) from Survey where quant='sal';"
     ],
     "language": "python",
     "metadata": {},
     "outputs": [
      {
       "html": [
        "<table>\n",
        "<tr><td>9</td></tr>\n",
        "</table>"
       ],
       "metadata": {},
       "output_type": "display_data",
       "text": [
        "<IPython.core.display.HTML at 0x1023c4fd0>"
       ]
      }
     ],
     "prompt_number": 8
    },
    {
     "cell_type": "code",
     "collapsed": false,
     "input": [
      "%%sqlite survey.db\n",
      "select sum(reading) from Survey where quant='sal';"
     ],
     "language": "python",
     "metadata": {},
     "outputs": [
      {
       "html": [
        "<table>\n",
        "<tr><td>64.83</td></tr>\n",
        "</table>"
       ],
       "metadata": {},
       "output_type": "display_data",
       "text": [
        "<IPython.core.display.HTML at 0x1023c4d90>"
       ]
      }
     ],
     "prompt_number": 9
    },
    {
     "cell_type": "markdown",
     "metadata": {},
     "source": [
      "We used `count(reading)` here,\n",
      "but we could just as easily have counted `quant`\n",
      "or any other field in the table,\n",
      "or even used `count(*)`,\n",
      "since the function doesn't care about the values themselves,\n",
      "just how many values there are.\n",
      "\n",
      "SQL lets us do several aggregations at once.\n",
      "We can,\n",
      "for example,\n",
      "find the range of sensible salinity measurements:"
     ]
    },
    {
     "cell_type": "code",
     "collapsed": false,
     "input": [
      "%%sqlite survey.db\n",
      "select min(reading), max(reading) from Survey where quant='sal' and reading<=1.0;"
     ],
     "language": "python",
     "metadata": {},
     "outputs": [
      {
       "html": [
        "<table>\n",
        "<tr><td>0.05</td><td>0.21</td></tr>\n",
        "</table>"
       ],
       "metadata": {},
       "output_type": "display_data",
       "text": [
        "<IPython.core.display.HTML at 0x1023c4fd0>"
       ]
      }
     ],
     "prompt_number": 10
    },
    {
     "cell_type": "markdown",
     "metadata": {},
     "source": [
      "We can also combine aggregated results with raw results,\n",
      "although the output might surprise you:"
     ]
    },
    {
     "cell_type": "code",
     "collapsed": false,
     "input": [
      "%%sqlite survey.db\n",
      "select person, count(*) from Survey where quant='sal' and reading<=1.0;"
     ],
     "language": "python",
     "metadata": {},
     "outputs": [
      {
       "html": [
        "<table>\n",
        "<tr><td>lake</td><td>7</td></tr>\n",
        "</table>"
       ],
       "metadata": {},
       "output_type": "display_data",
       "text": [
        "<IPython.core.display.HTML at 0x1023c4d90>"
       ]
      }
     ],
     "prompt_number": 11
    },
    {
     "cell_type": "markdown",
     "metadata": {},
     "source": [
      "Why does Lake's name appear rather than Roerich's or Dyer's?\n",
      "The answer is that when it has to aggregate a field,\n",
      "but isn't told how to,\n",
      "the database manager chooses an actual value from the input set.\n",
      "It might use the first one processed,\n",
      "the last one,\n",
      "or something else entirely.\n",
      "\n",
      "Another important fact is that when there are no values to aggregate,\n",
      "aggregation's result is \"don't know\"\n",
      "rather than zero or some other arbitrary value:"
     ]
    },
    {
     "cell_type": "code",
     "collapsed": false,
     "input": [
      "%%sqlite survey.db\n",
      "select person, max(reading), sum(reading) from Survey where quant='missing';"
     ],
     "language": "python",
     "metadata": {},
     "outputs": [
      {
       "html": [
        "<table>\n",
        "<tr><td>None</td><td>None</td><td>None</td></tr>\n",
        "</table>"
       ],
       "metadata": {},
       "output_type": "display_data",
       "text": [
        "<IPython.core.display.HTML at 0x1023c4fd0>"
       ]
      }
     ],
     "prompt_number": 12
    },
    {
     "cell_type": "markdown",
     "metadata": {},
     "source": [
      "One final important feature of aggregation functions is that\n",
      "they are inconsistent with the rest of SQL in a very useful way.\n",
      "If we add two values,\n",
      "and one of them is null,\n",
      "the result is null.\n",
      "By extension,\n",
      "if we use `sum` to add all the values in a set,\n",
      "and any of those values are null,\n",
      "the result should also be null.\n",
      "It's much more useful,\n",
      "though,\n",
      "for aggregation functions to ignore null values\n",
      "and only combine those that are non-null.\n",
      "This behavior lets us write our queries as:"
     ]
    },
    {
     "cell_type": "code",
     "collapsed": false,
     "input": [
      "%%sqlite survey.db\n",
      "select min(dated) from Visited;"
     ],
     "language": "python",
     "metadata": {},
     "outputs": [
      {
       "html": [
        "<table>\n",
        "<tr><td>1927-02-08</td></tr>\n",
        "</table>"
       ],
       "metadata": {},
       "output_type": "display_data",
       "text": [
        "<IPython.core.display.HTML at 0x1023c4fd0>"
       ]
      }
     ],
     "prompt_number": 13
    },
    {
     "cell_type": "markdown",
     "metadata": {},
     "source": [
      "instead of always having to filter explicitly:"
     ]
    },
    {
     "cell_type": "code",
     "collapsed": false,
     "input": [
      "%%sqlite survey.db\n",
      "select min(dated) from Visited where dated is not null;"
     ],
     "language": "python",
     "metadata": {},
     "outputs": [
      {
       "html": [
        "<table>\n",
        "<tr><td>1927-02-08</td></tr>\n",
        "</table>"
       ],
       "metadata": {},
       "output_type": "display_data",
       "text": [
        "<IPython.core.display.HTML at 0x1023c4090>"
       ]
      }
     ],
     "prompt_number": 14
    },
    {
     "cell_type": "markdown",
     "metadata": {},
     "source": [
      "### Challenges\n",
      "\n",
      "1.  How many temperature readings did Frank Pabodie record,\n",
      "    and what was their average value?\n",
      "\n",
      "2.  The average of a set of values is the sum of the values\n",
      "    divided by the number of values.\n",
      "    Does this mean that the `avg` function returns 2.0 or 3.0\n",
      "    when given the values 1.0, `null`, and 5.0?\n",
      "\n",
      "3.  We want to calculate the difference between\n",
      "    each individual radiation reading\n",
      "    and the average of all the radiation readings.\n",
      "    We write the query:\n",
      "\n",
      "    ```\n",
      "    select reading-avg(reading) from Survey where quant='rad';\n",
      "    ```\n",
      "\n",
      "    What does this actually produce, and why?\n",
      "\n",
      "4.  The function `group_concat(field, separator)`\n",
      "    concatenates all the values in a field\n",
      "    using the specified separator character\n",
      "    (or ',' if the separator isn't specified).\n",
      "    Use this to produce a one-line list of scientists' names,\n",
      "    such as:\n",
      "\n",
      "    ```\n",
      "    William Dyer, Frank Pabodie, Anderson Lake, Valentina Roerich, Frank Danforth\n",
      "    ```\n",
      "\n",
      "    Can you find a way to order the list by surname?"
     ]
    },
    {
     "cell_type": "heading",
     "level": 2,
     "metadata": {},
     "source": [
      "Next Steps"
     ]
    },
    {
     "cell_type": "markdown",
     "metadata": {},
     "source": [
      "FIXME"
     ]
    }
   ],
   "metadata": {}
  }
 ]
}