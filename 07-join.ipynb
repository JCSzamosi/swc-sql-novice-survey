{
 "metadata": {
  "name": ""
 },
 "nbformat": 3,
 "nbformat_minor": 0,
 "worksheets": [
  {
   "cells": [
    {
     "cell_type": "heading",
     "level": 1,
     "metadata": {},
     "source": [
      "Combining Data"
     ]
    },
    {
     "cell_type": "markdown",
     "metadata": {},
     "source": [
      "In order to submit her data to a web site\n",
      "that aggregates historical meteorological data,\n",
      "Gina needs to format it as\n",
      "latitude, longitude, date, quantity, and reading.\n",
      "However,\n",
      "her latitudes and longitudes are in the `Site` table,\n",
      "while the dates of measurements are in the `Visited` table\n",
      "and the readings themselves are in the `Survey` table.\n",
      "She needs to combine these tables somehow.\n",
      "\n",
      "The SQL command to do this is `join`.\n",
      "To see how it works,\n",
      "let's start by joining the `Site` and `Visited` tables:"
     ]
    },
    {
     "cell_type": "code",
     "collapsed": false,
     "input": [
      "%load_ext sqlitemagic"
     ],
     "language": "python",
     "metadata": {},
     "outputs": [],
     "prompt_number": 1
    },
    {
     "cell_type": "code",
     "collapsed": false,
     "input": [
      "%%sqlite survey.db\n",
      "select * from Site join Visited;"
     ],
     "language": "python",
     "metadata": {},
     "outputs": [
      {
       "html": [
        "<table>\n",
        "<tr><td>DR-1</td><td>-49.85</td><td>-128.57</td><td>619</td><td>DR-1</td><td>1927-02-08</td></tr>\n",
        "<tr><td>DR-1</td><td>-49.85</td><td>-128.57</td><td>622</td><td>DR-1</td><td>1927-02-10</td></tr>\n",
        "<tr><td>DR-1</td><td>-49.85</td><td>-128.57</td><td>734</td><td>DR-3</td><td>1939-01-07</td></tr>\n",
        "<tr><td>DR-1</td><td>-49.85</td><td>-128.57</td><td>735</td><td>DR-3</td><td>1930-01-12</td></tr>\n",
        "<tr><td>DR-1</td><td>-49.85</td><td>-128.57</td><td>751</td><td>DR-3</td><td>1930-02-26</td></tr>\n",
        "<tr><td>DR-1</td><td>-49.85</td><td>-128.57</td><td>752</td><td>DR-3</td><td>None</td></tr>\n",
        "<tr><td>DR-1</td><td>-49.85</td><td>-128.57</td><td>837</td><td>MSK-4</td><td>1932-01-14</td></tr>\n",
        "<tr><td>DR-1</td><td>-49.85</td><td>-128.57</td><td>844</td><td>DR-1</td><td>1932-03-22</td></tr>\n",
        "<tr><td>DR-3</td><td>-47.15</td><td>-126.72</td><td>619</td><td>DR-1</td><td>1927-02-08</td></tr>\n",
        "<tr><td>DR-3</td><td>-47.15</td><td>-126.72</td><td>622</td><td>DR-1</td><td>1927-02-10</td></tr>\n",
        "<tr><td>DR-3</td><td>-47.15</td><td>-126.72</td><td>734</td><td>DR-3</td><td>1939-01-07</td></tr>\n",
        "<tr><td>DR-3</td><td>-47.15</td><td>-126.72</td><td>735</td><td>DR-3</td><td>1930-01-12</td></tr>\n",
        "<tr><td>DR-3</td><td>-47.15</td><td>-126.72</td><td>751</td><td>DR-3</td><td>1930-02-26</td></tr>\n",
        "<tr><td>DR-3</td><td>-47.15</td><td>-126.72</td><td>752</td><td>DR-3</td><td>None</td></tr>\n",
        "<tr><td>DR-3</td><td>-47.15</td><td>-126.72</td><td>837</td><td>MSK-4</td><td>1932-01-14</td></tr>\n",
        "<tr><td>DR-3</td><td>-47.15</td><td>-126.72</td><td>844</td><td>DR-1</td><td>1932-03-22</td></tr>\n",
        "<tr><td>MSK-4</td><td>-48.87</td><td>-123.4</td><td>619</td><td>DR-1</td><td>1927-02-08</td></tr>\n",
        "<tr><td>MSK-4</td><td>-48.87</td><td>-123.4</td><td>622</td><td>DR-1</td><td>1927-02-10</td></tr>\n",
        "<tr><td>MSK-4</td><td>-48.87</td><td>-123.4</td><td>734</td><td>DR-3</td><td>1939-01-07</td></tr>\n",
        "<tr><td>MSK-4</td><td>-48.87</td><td>-123.4</td><td>735</td><td>DR-3</td><td>1930-01-12</td></tr>\n",
        "<tr><td>MSK-4</td><td>-48.87</td><td>-123.4</td><td>751</td><td>DR-3</td><td>1930-02-26</td></tr>\n",
        "<tr><td>MSK-4</td><td>-48.87</td><td>-123.4</td><td>752</td><td>DR-3</td><td>None</td></tr>\n",
        "<tr><td>MSK-4</td><td>-48.87</td><td>-123.4</td><td>837</td><td>MSK-4</td><td>1932-01-14</td></tr>\n",
        "<tr><td>MSK-4</td><td>-48.87</td><td>-123.4</td><td>844</td><td>DR-1</td><td>1932-03-22</td></tr>\n",
        "</table>"
       ],
       "metadata": {},
       "output_type": "display_data",
       "text": [
        "<IPython.core.display.HTML at 0x1023c4550>"
       ]
      }
     ],
     "prompt_number": 2
    },
    {
     "cell_type": "markdown",
     "metadata": {},
     "source": [
      "`join` creates\n",
      "the [cross product](../gloss.html#cross-product)\n",
      "of two tables,\n",
      "i.e.,\n",
      "it joins each record of one with each record of the other\n",
      "to give all possible combinations.\n",
      "Since there are three records in `Site`\n",
      "and eight in `Visited`,\n",
      "the join's output has 24 records.\n",
      "And since each table has three fields,\n",
      "the output has six fields.\n",
      "  \n",
      "What the join *hasn't* done is\n",
      "figure out if the records being joined have anything to do with each other.\n",
      "It has no way of knowing whether they do or not until we tell it how.\n",
      "To do that,\n",
      "we add a clause specifying that\n",
      "we're only interested in combinations that have the same site name:"
     ]
    },
    {
     "cell_type": "code",
     "collapsed": false,
     "input": [
      "%%sqlite survey.db\n",
      "select * from Site join Visited on Site.name=Visited.site;"
     ],
     "language": "python",
     "metadata": {},
     "outputs": [
      {
       "html": [
        "<table>\n",
        "<tr><td>DR-1</td><td>-49.85</td><td>-128.57</td><td>619</td><td>DR-1</td><td>1927-02-08</td></tr>\n",
        "<tr><td>DR-1</td><td>-49.85</td><td>-128.57</td><td>622</td><td>DR-1</td><td>1927-02-10</td></tr>\n",
        "<tr><td>DR-1</td><td>-49.85</td><td>-128.57</td><td>844</td><td>DR-1</td><td>1932-03-22</td></tr>\n",
        "<tr><td>DR-3</td><td>-47.15</td><td>-126.72</td><td>734</td><td>DR-3</td><td>1939-01-07</td></tr>\n",
        "<tr><td>DR-3</td><td>-47.15</td><td>-126.72</td><td>735</td><td>DR-3</td><td>1930-01-12</td></tr>\n",
        "<tr><td>DR-3</td><td>-47.15</td><td>-126.72</td><td>751</td><td>DR-3</td><td>1930-02-26</td></tr>\n",
        "<tr><td>DR-3</td><td>-47.15</td><td>-126.72</td><td>752</td><td>DR-3</td><td>None</td></tr>\n",
        "<tr><td>MSK-4</td><td>-48.87</td><td>-123.4</td><td>837</td><td>MSK-4</td><td>1932-01-14</td></tr>\n",
        "</table>"
       ],
       "metadata": {},
       "output_type": "display_data",
       "text": [
        "<IPython.core.display.HTML at 0x1023c4090>"
       ]
      }
     ],
     "prompt_number": 3
    },
    {
     "cell_type": "markdown",
     "metadata": {},
     "source": [
      "`on` does the same job as `where`:\n",
      "it only keeps records that pass some test.\n",
      "(The difference between the two is that `on` filters records\n",
      "as they're being created,\n",
      "while `where` waits until the join is done\n",
      "and then does the filtering.)\n",
      "Once we add this to our query,\n",
      "the database manager throws away records\n",
      "that combined information about two different sites,\n",
      "leaving us with just the ones we want.\n",
      "  \n",
      "Notice that we used `table.field` to specify field names\n",
      "in the output of the join.\n",
      "We do this because tables can have fields with the same name,\n",
      "and we need to be specific which ones we're talking about.\n",
      "For example,\n",
      "if we joined the `person` and `visited` tables,\n",
      "the result would inherit a field called `ident`\n",
      "from each of the original tables.\n",
      "\n",
      "We can now use the same dotted notation\n",
      "to select the three columns we actually want\n",
      "out of our join:"
     ]
    },
    {
     "cell_type": "code",
     "collapsed": false,
     "input": [
      "%%sqlite survey.db\n",
      "select Site.lat, Site.long, Visited.dated\n",
      "from   Site join Visited\n",
      "on     Site.name=Visited.site;"
     ],
     "language": "python",
     "metadata": {},
     "outputs": [
      {
       "html": [
        "<table>\n",
        "<tr><td>-49.85</td><td>-128.57</td><td>1927-02-08</td></tr>\n",
        "<tr><td>-49.85</td><td>-128.57</td><td>1927-02-10</td></tr>\n",
        "<tr><td>-49.85</td><td>-128.57</td><td>1932-03-22</td></tr>\n",
        "<tr><td>-47.15</td><td>-126.72</td><td>None</td></tr>\n",
        "<tr><td>-47.15</td><td>-126.72</td><td>1930-01-12</td></tr>\n",
        "<tr><td>-47.15</td><td>-126.72</td><td>1930-02-26</td></tr>\n",
        "<tr><td>-47.15</td><td>-126.72</td><td>1939-01-07</td></tr>\n",
        "<tr><td>-48.87</td><td>-123.4</td><td>1932-01-14</td></tr>\n",
        "</table>"
       ],
       "metadata": {},
       "output_type": "display_data",
       "text": [
        "<IPython.core.display.HTML at 0x1023c3890>"
       ]
      }
     ],
     "prompt_number": 4
    },
    {
     "cell_type": "markdown",
     "metadata": {},
     "source": [
      "If joining two tables is good,\n",
      "joining many tables must be better.\n",
      "In fact,\n",
      "we can join any number of tables\n",
      "simply by adding more `join` clauses to our query,\n",
      "and more `on` tests to filter out combinations of records\n",
      "that don't make sense:"
     ]
    },
    {
     "cell_type": "code",
     "collapsed": false,
     "input": [
      "%%sqlite survey.db\n",
      "select Site.lat, Site.long, Visited.dated, Survey.quant, Survey.reading\n",
      "from   Site join Visited join Survey\n",
      "on     Site.name=Visited.site\n",
      "and    Visited.ident=Survey.taken\n",
      "and    Visited.dated is not null;"
     ],
     "language": "python",
     "metadata": {},
     "outputs": [
      {
       "html": [
        "<table>\n",
        "<tr><td>-49.85</td><td>-128.57</td><td>1927-02-08</td><td>rad</td><td>9.82</td></tr>\n",
        "<tr><td>-49.85</td><td>-128.57</td><td>1927-02-08</td><td>sal</td><td>0.13</td></tr>\n",
        "<tr><td>-49.85</td><td>-128.57</td><td>1927-02-10</td><td>rad</td><td>7.8</td></tr>\n",
        "<tr><td>-49.85</td><td>-128.57</td><td>1927-02-10</td><td>sal</td><td>0.09</td></tr>\n",
        "<tr><td>-47.15</td><td>-126.72</td><td>1939-01-07</td><td>rad</td><td>8.41</td></tr>\n",
        "<tr><td>-47.15</td><td>-126.72</td><td>1939-01-07</td><td>sal</td><td>0.05</td></tr>\n",
        "<tr><td>-47.15</td><td>-126.72</td><td>1939-01-07</td><td>temp</td><td>-21.5</td></tr>\n",
        "<tr><td>-47.15</td><td>-126.72</td><td>1930-01-12</td><td>rad</td><td>7.22</td></tr>\n",
        "<tr><td>-47.15</td><td>-126.72</td><td>1930-01-12</td><td>sal</td><td>0.06</td></tr>\n",
        "<tr><td>-47.15</td><td>-126.72</td><td>1930-01-12</td><td>temp</td><td>-26.0</td></tr>\n",
        "<tr><td>-47.15</td><td>-126.72</td><td>1930-02-26</td><td>rad</td><td>4.35</td></tr>\n",
        "<tr><td>-47.15</td><td>-126.72</td><td>1930-02-26</td><td>sal</td><td>0.1</td></tr>\n",
        "<tr><td>-47.15</td><td>-126.72</td><td>1930-02-26</td><td>temp</td><td>-18.5</td></tr>\n",
        "<tr><td>-48.87</td><td>-123.4</td><td>1932-01-14</td><td>rad</td><td>1.46</td></tr>\n",
        "<tr><td>-48.87</td><td>-123.4</td><td>1932-01-14</td><td>sal</td><td>0.21</td></tr>\n",
        "<tr><td>-48.87</td><td>-123.4</td><td>1932-01-14</td><td>sal</td><td>22.5</td></tr>\n",
        "<tr><td>-49.85</td><td>-128.57</td><td>1932-03-22</td><td>rad</td><td>11.25</td></tr>\n",
        "</table>"
       ],
       "metadata": {},
       "output_type": "display_data",
       "text": [
        "<IPython.core.display.HTML at 0x1023c4550>"
       ]
      }
     ],
     "prompt_number": 5
    },
    {
     "cell_type": "markdown",
     "metadata": {},
     "source": [
      "We can tell which records from `Site`, `Visited`, and `Survey`\n",
      "correspond with each other\n",
      "because those tables contain\n",
      "[primary keys](../gloss.html#primary-key)\n",
      "and [foreign keys](../gloss.html#foreign-key).\n",
      "A primary key is a value,\n",
      "or combination of values,\n",
      "that uniquely identifies each record in a table.\n",
      "A foreign key is a value (or combination of values) from one table\n",
      "that identifies a unique record in another table.\n",
      "Another way of saying this is that\n",
      "a foreign key is the primary key of one table\n",
      "that appears in some other table.\n",
      "In our database,\n",
      "`Person.ident` is the primary key in the `Person` table,\n",
      "while `Survey.person` is a foreign key\n",
      "relating the `Survey` table's entries\n",
      "to entries in `Person`.\n",
      "\n",
      "Most database designers believe that\n",
      "every table should have a well-defined primary key.\n",
      "They also believe that this key should be separate from the data itself,\n",
      "so that if we ever need to change the data,\n",
      "we only need to make one change in one place.\n",
      "One easy way to do this is\n",
      "to create an arbitrary, unique ID for each record\n",
      "as we add it to the database.\n",
      "This is actually very common:\n",
      "those IDs have names like \"student numbers\" and \"patient numbers\",\n",
      "and they almost always turn out to have originally been\n",
      "a unique record identifier in some database system or other.\n",
      "As the query below demonstrates,\n",
      "SQLite automatically numbers records as they're added to tables,\n",
      "and we can use those record numbers in queries:"
     ]
    },
    {
     "cell_type": "code",
     "collapsed": false,
     "input": [
      "%%sqlite survey.db\n",
      "select rowid, * from Person;"
     ],
     "language": "python",
     "metadata": {},
     "outputs": [
      {
       "html": [
        "<table>\n",
        "<tr><td>1</td><td>dyer</td><td>William</td><td>Dyer</td></tr>\n",
        "<tr><td>2</td><td>pb</td><td>Frank</td><td>Pabodie</td></tr>\n",
        "<tr><td>3</td><td>lake</td><td>Anderson</td><td>Lake</td></tr>\n",
        "<tr><td>4</td><td>roe</td><td>Valentina</td><td>Roerich</td></tr>\n",
        "<tr><td>5</td><td>danforth</td><td>Frank</td><td>Danforth</td></tr>\n",
        "</table>"
       ],
       "metadata": {},
       "output_type": "display_data",
       "text": [
        "<IPython.core.display.HTML at 0x1023c4550>"
       ]
      }
     ],
     "prompt_number": 6
    },
    {
     "cell_type": "markdown",
     "metadata": {},
     "source": [
      "### Challenges\n",
      "\n",
      "1.  Write a query that lists all radiation readings from the DR-1 site.\n",
      "\n",
      "2.  Write a query that lists all sites visited by people named \"Frank\".\n",
      "\n",
      "3.  Describe in your own words what the following query produces:\n",
      "\n",
      "    ```\n",
      "    select Site.name from Site join Visited\n",
      "    on Site.lat<-49.0 and Site.name=Visited.site and Visited.dated>='1932-00-00';\n",
      "    ```\n",
      "\n",
      "4.  Why does the `Person` table have an `ident` field?\n",
      "    Why do we not just use scientists' names in the `Survey` table?\n",
      "\n",
      "5.  Why does the table `Site` exist?\n",
      "    Why don't we just record latitudes and longitudes\n",
      "    directly in the `Visited` and `Survey` tables?"
     ]
    },
    {
     "cell_type": "heading",
     "level": 2,
     "metadata": {},
     "source": [
      "Next Steps"
     ]
    },
    {
     "cell_type": "markdown",
     "metadata": {},
     "source": [
      "FIXME"
     ]
    }
   ],
   "metadata": {}
  }
 ]
}